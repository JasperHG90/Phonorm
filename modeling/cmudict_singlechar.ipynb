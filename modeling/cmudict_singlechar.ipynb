{
 "cells": [
  {
   "cell_type": "code",
   "execution_count": 3,
   "metadata": {},
   "outputs": [],
   "source": [
    "# Modules & set directory\n",
    "\n",
    "import os\n",
    "os.chdir(\"C:/Users/jaspe/PycharmProjects/phonorm\")\n",
    "\n",
    "from phonorm.utilities import create_mapping, tensor_from_pair, one_hot_encode, decode_from_ohe\n",
    "from phonorm.tests import check_ohe\n",
    "from phonorm.evaluate import plot_model_history, decode_sequence, evaluate_bleu, plot_bleu\n",
    "from phonorm.Seq2Seq import Seq2Seq\n",
    "from keras.optimizers import Adam\n",
    "import numpy as np\n",
    "import random"
   ]
  },
  {
   "cell_type": "code",
   "execution_count": 4,
   "metadata": {},
   "outputs": [],
   "source": [
    "# Load preprocessed data\n",
    "pairs = np.load(\"data/preprocessed/cmudict_singlechar_train.npy\")"
   ]
  },
  {
   "cell_type": "code",
   "execution_count": 5,
   "metadata": {},
   "outputs": [],
   "source": [
    "# Create mapping\n",
    "input_lang, output_lang = create_mapping(\"input\", \"output\", pairs)\n",
    "\n",
    "# Sample training pairs (len(pairs) == entire training data set)\n",
    "ml = len(pairs)\n",
    "random.seed(245)\n",
    "pairs_array = [random.choice(pairs) for i in range(ml)]\n",
    "\n",
    "# Split array into input / output vectors\n",
    "input_array = [pair[0] for pair in pairs_array]\n",
    "output_array = [pair[1] for pair in pairs_array]"
   ]
  },
  {
   "cell_type": "code",
   "execution_count": 6,
   "metadata": {},
   "outputs": [],
   "source": [
    "## One-hot encoding\n",
    "encoder_in_ohe = one_hot_encode(input_array, input_lang)\n",
    "decoder_in_ohe = one_hot_encode(output_array, output_lang)\n",
    "decoder_out_ohe = one_hot_encode(output_array, output_lang, one_timestep_ahead=True)"
   ]
  },
  {
   "cell_type": "code",
   "execution_count": 7,
   "metadata": {},
   "outputs": [
    {
     "name": "stdout",
     "output_type": "stream",
     "text": [
      "decoded and 'target decoded' should be the same\n",
      "\n",
      "---- Example 0\n",
      "Input: crumb, decoded: crumb\n",
      "Output: krahm, decoded: krahm, target decoded: krahm\n",
      "\n",
      "\n",
      "---- Example 1\n",
      "Input: caspers, decoded: caspers\n",
      "Output: kaesperz, decoded: kaesperz, target decoded: kaesperz\n",
      "\n",
      "\n",
      "---- Example 2\n",
      "Input: prattville, decoded: prattville\n",
      "Output: praetvihl, decoded: praetvihl, target decoded: praetvihl\n",
      "\n",
      "\n",
      "---- Example 3\n",
      "Input: creatologist, decoded: creatologist\n",
      "Output: kriyeytaolahjhihst, decoded: kriyeytaolahjhihst, target decoded: kriyeytaolahjhihst\n",
      "\n",
      "\n",
      "---- Example 4\n",
      "Input: lorgnette, decoded: lorgnette\n",
      "Output: laornyeht, decoded: laornyeht, target decoded: laornyeht\n",
      "\n",
      "\n"
     ]
    }
   ],
   "source": [
    "## Check if one-hot encoding works properly by sampling 5 random pairs\n",
    "check_ohe(pairs, input_lang, output_lang, 5)"
   ]
  },
  {
   "cell_type": "markdown",
   "metadata": {},
   "source": [
    "## Training the model"
   ]
  },
  {
   "cell_type": "code",
   "execution_count": 8,
   "metadata": {},
   "outputs": [],
   "source": [
    "## Try\n",
    "phonorm = Seq2Seq(512, input_lang, output_lang)\n",
    "\n",
    "## Encoder\n",
    "phonorm.Encoder(input_lang.n_chars, dropout_prop=0.1, recurrent_dropout_prop=0.1)\n",
    "\n",
    "## Decoder\n",
    "phonorm.Decoder(output_lang.n_chars, dropout_prop=0.1, recurrent_dropout_prop=0.1)"
   ]
  },
  {
   "cell_type": "code",
   "execution_count": 7,
   "metadata": {},
   "outputs": [
    {
     "name": "stdout",
     "output_type": "stream",
     "text": [
      "__________________________________________________________________________________________________\n",
      "Layer (type)                    Output Shape         Param #     Connected to                     \n",
      "==================================================================================================\n",
      "input_1 (InputLayer)            (None, None, 34)     0                                            \n",
      "__________________________________________________________________________________________________\n",
      "bidirectional_1 (Bidirectional) [(None, 1024), (None 2240512     input_1[0][0]                    \n",
      "__________________________________________________________________________________________________\n",
      "input_2 (InputLayer)            (None, None, 28)     0                                            \n",
      "__________________________________________________________________________________________________\n",
      "concatenate_1 (Concatenate)     (None, 1024)         0           bidirectional_1[0][1]            \n",
      "                                                                 bidirectional_1[0][3]            \n",
      "                                                                 bidirectional_1[0][2]            \n",
      "                                                                 bidirectional_1[0][4]            \n",
      "__________________________________________________________________________________________________\n",
      "lstm_2 (LSTM)                   [(None, None, 1024), 4313088     input_2[0][0]                    \n",
      "                                                                 concatenate_1[0][0]              \n",
      "                                                                 concatenate_1[1][0]              \n",
      "__________________________________________________________________________________________________\n",
      "dense_1 (Dense)                 (None, None, 28)     28700       lstm_2[0][0]                     \n",
      "==================================================================================================\n",
      "Total params: 6,582,300\n",
      "Trainable params: 6,582,300\n",
      "Non-trainable params: 0\n",
      "__________________________________________________________________________________________________\n"
     ]
    }
   ],
   "source": [
    "## Compile the phonorm model\n",
    "phonorm.compile_model(print_summary = True, optimizer = Adam(lr=0.005, beta_1=0.9, beta_2=0.999, epsilon=None, decay=0.0, amsgrad=False))"
   ]
  },
  {
   "cell_type": "code",
   "execution_count": 8,
   "metadata": {},
   "outputs": [
    {
     "name": "stdout",
     "output_type": "stream",
     "text": [
      "Train on 115342 samples, validate on 6071 samples\n",
      "Epoch 1/10\n",
      "115342/115342 [==============================] - 331s 3ms/step - loss: 0.1529 - val_loss: 0.0479\n",
      "Epoch 2/10\n",
      "115342/115342 [==============================] - 326s 3ms/step - loss: 0.0467 - val_loss: 0.0324\n",
      "Epoch 3/10\n",
      "115342/115342 [==============================] - 325s 3ms/step - loss: 0.0343 - val_loss: 0.0266\n",
      "Epoch 4/10\n",
      "115342/115342 [==============================] - 325s 3ms/step - loss: 0.0289 - val_loss: 0.0245\n",
      "Epoch 5/10\n",
      "115342/115342 [==============================] - 325s 3ms/step - loss: 0.0257 - val_loss: 0.0233\n",
      "Epoch 6/10\n",
      "115342/115342 [==============================] - 326s 3ms/step - loss: 0.0235 - val_loss: 0.0218\n",
      "Epoch 7/10\n",
      "115342/115342 [==============================] - 325s 3ms/step - loss: 0.0223 - val_loss: 0.0207\n",
      "Epoch 8/10\n",
      "115342/115342 [==============================] - 325s 3ms/step - loss: 0.0209 - val_loss: 0.0204\n",
      "Epoch 9/10\n",
      "115342/115342 [==============================] - 323s 3ms/step - loss: 0.0198 - val_loss: 0.0205\n",
      "Epoch 10/10\n",
      "115342/115342 [==============================] - 325s 3ms/step - loss: 0.0189 - val_loss: 0.0197\n"
     ]
    },
    {
     "data": {
      "image/png": "[encoded data removed]",
      "text/plain": [
       "<Figure size 432x288 with 1 Axes>"
      ]
     },
     "metadata": {
      "needs_background": "light"
     },
     "output_type": "display_data"
    }
   ],
   "source": [
    "## Fit the model\n",
    "phonorm.fit([encoder_in_ohe, decoder_in_ohe], decoder_out_ohe, batch_size = 128, epochs = 10)"
   ]
  },
  {
   "cell_type": "code",
   "execution_count": 10,
   "metadata": {},
   "outputs": [
    {
     "data": {
      "text/plain": [
       "('jhaoshah', 'jhowziyah')"
      ]
     },
     "execution_count": 10,
     "metadata": {},
     "output_type": "execute_result"
    }
   ],
   "source": [
    "# Predct\n",
    "phonorm.predict(\"josje\"), phonorm.predict(\"joasia\")"
   ]
  },
  {
   "cell_type": "code",
   "execution_count": 9,
   "metadata": {},
   "outputs": [
    {
     "name": "stderr",
     "output_type": "stream",
     "text": [
      "C:\\Users\\jaspe\\Anaconda3\\envs\\phonorm\\lib\\site-packages\\keras\\engine\\network.py:877: UserWarning: Layer lstm_2 was passed non-serializable keyword arguments: {'initial_state': [<tf.Tensor 'concatenate_1/concat:0' shape=(?, 1024) dtype=float32>, <tf.Tensor 'concatenate_1_1/concat:0' shape=(?, 1024) dtype=float32>]}. They will not be included in the serialized model (and thus will be missing at deserialization time).\n",
      "  '. They will not be included '\n"
     ]
    }
   ],
   "source": [
    "# Save model\n",
    "phonorm.save(\"models/cmudict/singlechar_model_10EP_H512\")"
   ]
  },
  {
   "cell_type": "code",
   "execution_count": 63,
   "metadata": {},
   "outputs": [
    {
     "data": {
      "text/plain": [
       "<keras.callbacks.History at 0x2163038ce48>"
      ]
     },
     "execution_count": 63,
     "metadata": {},
     "output_type": "execute_result"
    }
   ],
   "source": [
    "phonorm.history"
   ]
  },
  {
   "cell_type": "code",
   "execution_count": 9,
   "metadata": {},
   "outputs": [],
   "source": [
    "## Try\n",
    "phonorm = Seq2Seq(512, input_lang, output_lang)\n",
    "phonorm.load(\"models/cmudict/singlechar_model_10EP_H512\")"
   ]
  },
  {
   "cell_type": "markdown",
   "metadata": {},
   "source": [
    "## Evaluate the model on generic dev set\n",
    "\n",
    "The model should perform well in terms of [BLEU score](https://machinelearningmastery.com/calculate-bleu-score-for-text-python/). This is a measure of 'skill' for the model."
   ]
  },
  {
   "cell_type": "code",
   "execution_count": 8,
   "metadata": {},
   "outputs": [],
   "source": [
    "# Load dev set\n",
    "devpairs = np.load(\"data/preprocessed/cmudict_multichar_dev.npy\")"
   ]
  },
  {
   "cell_type": "code",
   "execution_count": 9,
   "metadata": {},
   "outputs": [],
   "source": [
    "# Make predictions\n",
    "inWords = [pair[0] for pair in devpairs]\n",
    "outWords = [pair[1] for pair in devpairs]"
   ]
  },
  {
   "cell_type": "code",
   "execution_count": 10,
   "metadata": {},
   "outputs": [
    {
     "name": "stdout",
     "output_type": "stream",
     "text": [
      "--- Sample 1\n",
      "Word: zloty\n",
      "Ref: zlaotiy\n",
      "Pred: zlaotiy\n",
      "\n",
      "\n"
     ]
    },
    {
     "name": "stderr",
     "output_type": "stream",
     "text": [
      "C:\\Users\\jaspe\\Anaconda3\\envs\\phonorm\\lib\\site-packages\\nltk\\translate\\bleu_score.py:503: UserWarning: \n",
      "The hypothesis contains 0 counts of 4-gram overlaps.\n",
      "Therefore the BLEU score evaluates to 0, independently of\n",
      "how many N-gram overlaps of lower order it contains.\n",
      "Consider using lower n-gram order or use SmoothingFunction()\n",
      "  warnings.warn(_msg)\n",
      "C:\\Users\\jaspe\\Anaconda3\\envs\\phonorm\\lib\\site-packages\\nltk\\translate\\bleu_score.py:503: UserWarning: \n",
      "The hypothesis contains 0 counts of 3-gram overlaps.\n",
      "Therefore the BLEU score evaluates to 0, independently of\n",
      "how many N-gram overlaps of lower order it contains.\n",
      "Consider using lower n-gram order or use SmoothingFunction()\n",
      "  warnings.warn(_msg)\n"
     ]
    },
    {
     "name": "stdout",
     "output_type": "stream",
     "text": [
      "--- Sample 190\n",
      "Word: expiring\n",
      "Ref: ihkspayrihng\n",
      "Pred: ihkspayrihng\n",
      "\n",
      "\n",
      "--- Sample 213\n",
      "Word: valverde\n",
      "Ref: vaalvehrdey\n",
      "Pred: vaalvehrdiy\n",
      "\n",
      "\n"
     ]
    }
   ],
   "source": [
    "bs_out = []\n",
    "preds = []\n",
    "for i, (inw, outw) in enumerate(devpairs):\n",
    "    \n",
    "    # Predict pronunciation\n",
    "    pred = phonorm.predict(inw)\n",
    "    preds.append(pred)\n",
    "    \n",
    "    # Print if random number > 0.99\n",
    "    if random.random() > 0.99:\n",
    "        ## Print\n",
    "        print(\"--- Sample \" + str(i))\n",
    "        print(\"Word: \" + inw)\n",
    "        print(\"Ref: \" + outw.replace(\" \", \"\").replace(\"\\n\", \"\").replace(\"\\t\", \"\"))\n",
    "        print(\"Pred: \" + pred)\n",
    "        print(\"\\n\")\n",
    "    ## Calculate bleu score\n",
    "    bs_out.append(evaluate_bleu(outw.replace(\" \", \"\").replace(\"\\n\", \"\").replace(\"\\t\", \"\"), pred))\n"
   ]
  },
  {
   "cell_type": "code",
   "execution_count": 11,
   "metadata": {},
   "outputs": [],
   "source": [
    "# Bleu score\n",
    "bs_1 = [bs[0].tolist()[0] for bs in bs_out]\n",
    "bs_2 = [bs[1].tolist()[0] for bs in bs_out]\n",
    "bs_3 = [bs[2].tolist()[0] for bs in bs_out]\n",
    "bs_4 = [bs[3].tolist()[0] for bs in bs_out]"
   ]
  },
  {
   "cell_type": "code",
   "execution_count": 17,
   "metadata": {},
   "outputs": [],
   "source": [
    "import matplotlib.pyplot as plt\n",
    "\n",
    "## Plot bleu score function\n",
    "def plot_bleu(data, index = 1):\n",
    "    \n",
    "    #%matplotlib inline\n",
    "    plt.hist(data, normed=True, bins=15)\n",
    "    plt.ylabel('BLEU score')\n",
    "    plt.show()"
   ]
  },
  {
   "cell_type": "code",
   "execution_count": 13,
   "metadata": {},
   "outputs": [
    {
     "name": "stdout",
     "output_type": "stream",
     "text": [
      "1-grams avg: 0.95\n",
      "2-grams avg: 0.93\n",
      "3-grams avg: 0.9\n",
      "4-grams avg: 0.87\n"
     ]
    },
    {
     "name": "stderr",
     "output_type": "stream",
     "text": [
      "C:\\Users\\jaspe\\Anaconda3\\envs\\phonorm\\lib\\site-packages\\matplotlib\\axes\\_axes.py:6510: MatplotlibDeprecationWarning: \n",
      "The 'normed' kwarg was deprecated in Matplotlib 2.1 and will be removed in 3.1. Use 'density' instead.\n",
      "  alternative=\"'density'\", removal=\"3.1\")\n"
     ]
    },
    {
     "data": {
      "image/png": "[encoded data removed]",
      "text/plain": [
       "<Figure size 432x288 with 1 Axes>"
      ]
     },
     "metadata": {
      "needs_background": "light"
     },
     "output_type": "display_data"
    },
    {
     "data": {
      "image/png": "[encoded data removed]",
      "text/plain": [
       "<Figure size 432x288 with 1 Axes>"
      ]
     },
     "metadata": {
      "needs_background": "light"
     },
     "output_type": "display_data"
    },
    {
     "data": {
      "image/png": "[encoded data removed]",
      "text/plain": [
       "<Figure size 432x288 with 1 Axes>"
      ]
     },
     "metadata": {
      "needs_background": "light"
     },
     "output_type": "display_data"
    },
    {
     "data": {
      "image/png": "[encoded data removed]",
      "text/plain": [
       "<Figure size 432x288 with 1 Axes>"
      ]
     },
     "metadata": {
      "needs_background": "light"
     },
     "output_type": "display_data"
    }
   ],
   "source": [
    "print(\"1-grams avg: \" + str(np.round(np.mean(bs_1),decimals=2)))\n",
    "print(\"2-grams avg: \" + str(np.round(np.mean(bs_2),decimals=2)))\n",
    "print(\"3-grams avg: \" + str(np.round(np.mean(bs_3),decimals=2)))\n",
    "print(\"4-grams avg: \" + str(np.round(np.mean(bs_4),decimals=2)))\n",
    "plot_bleu(bs_1, 1)\n",
    "plot_bleu(bs_2, 2)\n",
    "plot_bleu(bs_3, 3)\n",
    "plot_bleu(bs_3, 4)"
   ]
  },
  {
   "cell_type": "code",
   "execution_count": 19,
   "metadata": {},
   "outputs": [
    {
     "name": "stdout",
     "output_type": "stream",
     "text": [
      "In: 400\n",
      "Out: 400\n",
      "Pred: 400\n",
      "BS1: 400\n",
      "BS2: 400\n",
      "BS3: 400\n",
      "BS4: 400\n"
     ]
    }
   ],
   "source": [
    "## Save data\n",
    "import pandas as pd\n",
    "print(\"In: \" + str(len(inWords)))\n",
    "print(\"Out: \" + str(len(outWords)))\n",
    "print(\"Pred: \" + str(len(preds)))\n",
    "print(\"BS1: \" + str(len(bs_1)))\n",
    "print(\"BS2: \" + str(len(bs_2)))\n",
    "print(\"BS3: \" + str(len(bs_3)))\n",
    "print(\"BS4: \" + str(len(bs_4)))\n",
    "\n",
    "# To dict\n",
    "data_dev = {\n",
    "    \"in\":inWords,\n",
    "    \"out\":outWords,\n",
    "    \"pred\":preds,\n",
    "    \"bs1\":bs_1,\n",
    "    \"bs2\":bs_2,\n",
    "    \"bs3\":bs_3,\n",
    "    \"bs4\":bs_4\n",
    "}\n",
    "\n",
    "# To pandas df\n",
    "data_dev = pd.DataFrame.from_dict(data_dev)\n",
    "\n",
    "# To csv\n",
    "data_dev.to_csv(\"writeup/singlechar_dev.csv\")"
   ]
  },
  {
   "cell_type": "code",
   "execution_count": 17,
   "metadata": {},
   "outputs": [
    {
     "data": {
      "text/plain": [
       "True"
      ]
     },
     "execution_count": 17,
     "metadata": {},
     "output_type": "execute_result"
    }
   ],
   "source": [
    "## Are there words that are predicted to be the same but are not in actuality\n",
    "from collections import Counter\n",
    "c = Counter(preds)\n",
    "\n",
    "## Is the sum of the predicted frequencies shorter than the dev set?\n",
    "## If so, then there are duplicates.\n",
    "## This is an issue because we know that the dev set has homophones\n",
    "sum(c.values()) == len(devpairs)"
   ]
  },
  {
   "cell_type": "code",
   "execution_count": 50,
   "metadata": {},
   "outputs": [],
   "source": [
    "## Check out homophones set\n",
    "devhmp = np.load(\"data/preprocessed/cmudict_multichar_homophone_dev.npy\")"
   ]
  },
  {
   "cell_type": "code",
   "execution_count": 51,
   "metadata": {},
   "outputs": [
    {
     "name": "stdout",
     "output_type": "stream",
     "text": [
      "Unique pronunciations: 247\n",
      "Homophones dev entries: 614\n"
     ]
    }
   ],
   "source": [
    "## Get unique pronunciations\n",
    "unique_pronuns = []\n",
    "for hmp in devhmp:\n",
    "    if hmp[1] in unique_pronuns:\n",
    "        continue\n",
    "    else:\n",
    "        unique_pronuns.append(hmp[1])\n",
    "        \n",
    "print(\"Unique pronunciations: \" + str(len(unique_pronuns)))\n",
    "print(\"Homophones dev entries: \" + str(len(devhmp)))"
   ]
  },
  {
   "cell_type": "code",
   "execution_count": 52,
   "metadata": {},
   "outputs": [],
   "source": [
    "equality = []\n",
    "difficulty = []\n",
    "inwords = []\n",
    "outw = []\n",
    "outw_pred = []\n",
    "props_comp_to_outcome = []\n",
    "props_comp_to_hmphones = []\n",
    "props_all_equal = []\n",
    "## For each unique pronunciation, predict\n",
    "for pronun in unique_pronuns:\n",
    "    \n",
    "    ## Get entries where pronunciation is pronun\n",
    "    pronun_entries_tmp = [entry for entry in devhmp if entry[1] == pronun]\n",
    "    \n",
    "    if len(pronun_entries_tmp) < 2:\n",
    "        continue\n",
    "    else:\n",
    "        pronun_entries = pronun_entries_tmp\n",
    "        \n",
    "    ## Calculate equality score\n",
    "    out_ref = pronun.replace(\" \", \"\").replace(\"\\t\", \"\").replace(\"\\n\", \"\")\n",
    "    \n",
    "    ## Predict inwords\n",
    "    out_pred = [phonorm.predict(pronun_entry[0]) for pronun_entry in pronun_entries]\n",
    "    \n",
    "    ## Add to list\n",
    "    inwords.append(\"; \".join([inw[0] for inw in pronun_entries_tmp]))\n",
    "    outw.append(out_ref)\n",
    "    outw_pred.append(\"; \".join(out_pred))\n",
    "    \n",
    "    ## Equal to out?\n",
    "    comp = [pred == out_ref for pred in out_pred]\n",
    "    equality.append(comp)\n",
    "    \n",
    "    ## Proportion correct\n",
    "    ## NB. also count instances where all entries are wrong but the same\n",
    "    props_comp_to_outcome.append(np.sum(comp) / len(comp))\n",
    "    \n",
    "    ## Keep track of scores in a slighly different way --> look how many of the subgroups are equal to one another\n",
    "    scores = []\n",
    "    for grp in np.unique(out_pred):\n",
    "        scores.append(np.sum([True if pr == grp else False for pr in out_pred]))\n",
    "    \n",
    "    props_comp_to_hmphones.append(scores[np.argmax(scores)] / sum(scores))\n",
    "    \n",
    "    ## All equal\n",
    "    props_all_equal.append(int(np.all(comp)))\n",
    "    \n",
    "    ## If proportion low, then add to difficult\n",
    "    if (np.sum(comp) / len(comp)) < 0.8:\n",
    "        \n",
    "        difficulty.append(\n",
    "            {\"ref\":out_ref,\n",
    "            \"pred\":out_pred,\n",
    "            \"inw\":[entry[0] for entry in pronun_entries]}\n",
    "        )"
   ]
  },
  {
   "cell_type": "code",
   "execution_count": 53,
   "metadata": {},
   "outputs": [
    {
     "name": "stdout",
     "output_type": "stream",
     "text": [
      "Equal to outcome: 0.87\n",
      "Highest subgroup: 0.91\n",
      "All equal: 0.77\n"
     ]
    }
   ],
   "source": [
    "print(\"Equal to outcome: \" + str(np.round(np.mean(props_comp_to_outcome), decimals=2)))\n",
    "print(\"Highest subgroup: \" + str(np.round(np.mean(props_comp_to_hmphones), decimals=2)))\n",
    "print(\"All equal: \" + str(np.round(np.sum(props_all_equal) / len(props_all_equal), decimals=2)))"
   ]
  },
  {
   "cell_type": "code",
   "execution_count": 54,
   "metadata": {},
   "outputs": [
    {
     "name": "stdout",
     "output_type": "stream",
     "text": [
      "----- Example 0\n",
      "Input: allegis, allegis'\n",
      "Pred:  aelahjhihs, aelahjhihs\n",
      "True:  aeleyjhihs\n",
      "\n",
      "\n",
      "----- Example 1\n",
      "Input: anno, ano\n",
      "Pred:  aanow, aanow\n",
      "True:  aenow\n",
      "\n",
      "\n",
      "----- Example 2\n",
      "Input: arman, armen, armin, armon\n",
      "Pred:  aarmahn, aarmahn, aarmihn, aarmahn\n",
      "True:  aarmahn\n",
      "\n",
      "\n",
      "----- Example 3\n",
      "Input: balentine, ballentine\n",
      "Pred:  baelahntayn, baelahntayn\n",
      "True:  baalehntiyniy\n",
      "\n",
      "\n",
      "----- Example 4\n",
      "Input: barasch, barash\n",
      "Pred:  baarahsh, baarahsh\n",
      "True:  baerahsh\n",
      "\n",
      "\n",
      "----- Example 5\n",
      "Input: bohnet, bonnett\n",
      "Pred:  bowniht, baaniht\n",
      "True:  baaniht\n",
      "\n",
      "\n",
      "----- Example 6\n",
      "Input: buchanan's, buchanans\n",
      "Pred:  byuwkaenahnz, byuwkeynahnz\n",
      "True:  byuwkaenahnz\n",
      "\n",
      "\n",
      "----- Example 7\n",
      "Input: charlene, charline, sharleen, sharlene\n",
      "Pred:  chaarliyn, chaarlayn, shaarliyn, shaarliyn\n",
      "True:  shaarliyn\n",
      "\n",
      "\n",
      "----- Example 8\n",
      "Input: comet's, comets\n",
      "Pred:  kaamahts, kaamihts\n",
      "True:  kaamahts\n",
      "\n",
      "\n",
      "----- Example 9\n",
      "Input: coppee, copy, kopy\n",
      "Pred:  kaapiy, kowpiy, kowpiy\n",
      "True:  kaapiy\n",
      "\n",
      "\n",
      "----- Example 10\n",
      "Input: critzer, kritzer\n",
      "Pred:  kraytzer, krihtzer\n",
      "True:  krihtzer\n",
      "\n",
      "\n",
      "----- Example 11\n",
      "Input: daya's, dias, diez\n",
      "Pred:  deyahz, diyahz, dayahz\n",
      "True:  dayahz\n",
      "\n",
      "\n",
      "----- Example 12\n",
      "Input: dhaharan, dhahran\n",
      "Pred:  dahhhaarahn, dahraan\n",
      "True:  dahraan\n",
      "\n",
      "\n",
      "----- Example 13\n",
      "Input: dolan, dolen, dollan\n",
      "Pred:  dowlahn, dowlahn, daalahn\n",
      "True:  dowlahn\n",
      "\n",
      "\n",
      "----- Example 14\n",
      "Input: donaghue, donahoo, donohoo\n",
      "Pred:  daanahhh, daanahhhuw, daanahhhuw\n",
      "True:  daanahhhuw\n",
      "\n",
      "\n",
      "----- Example 15\n",
      "Input: donnelley's, donnelly's\n",
      "Pred:  daanihliyz, daanahliyz\n",
      "True:  daanahliyz\n",
      "\n",
      "\n",
      "----- Example 16\n",
      "Input: dooling, dueling\n",
      "Pred:  duwlihng, duwahlihng\n",
      "True:  duwlihng\n",
      "\n",
      "\n",
      "----- Example 17\n",
      "Input: edoardo, eduardo\n",
      "Pred:  ehduwaardow, ehdwaardow\n",
      "True:  ehdwaardow\n",
      "\n",
      "\n",
      "----- Example 18\n",
      "Input: enloe, enlow, inlow\n",
      "Pred:  ehnlow, ehnlow, ihnlow\n",
      "True:  ihnlow\n",
      "\n",
      "\n",
      "----- Example 19\n",
      "Input: garret, gehret\n",
      "Pred:  gaeriht, jhehriht\n",
      "True:  gehriht\n",
      "\n",
      "\n",
      "----- Example 20\n",
      "Input: garrity, gerety\n",
      "Pred:  gehrihtiy, gehrahtiy\n",
      "True:  gehrihtiy\n",
      "\n",
      "\n",
      "----- Example 21\n",
      "Input: haagen, hogen, hoggan\n",
      "Pred:  hhaagahn, hhowgahn, hhaagahn\n",
      "True:  hhaagahn\n",
      "\n",
      "\n",
      "----- Example 22\n",
      "Input: heinecke, heinicke, hynek\n",
      "Pred:  hhaynihk, hhaynihk, hhihnihk\n",
      "True:  hhaynihk\n",
      "\n",
      "\n",
      "----- Example 23\n",
      "Input: leak, leake, leek, leick\n",
      "Pred:  liyk, liyk, liyk, layk\n",
      "True:  liyk\n",
      "\n",
      "\n",
      "----- Example 24\n",
      "Input: leeper, leiper\n",
      "Pred:  liyper, layper\n",
      "True:  liyper\n",
      "\n",
      "\n",
      "----- Example 25\n",
      "Input: leeuwen, lewan, luane\n",
      "Pred:  luwyuwahn, luwahn, luwaan\n",
      "True:  luwahn\n",
      "\n",
      "\n",
      "----- Example 26\n",
      "Input: masci, massey, massi, massie\n",
      "Pred:  maasiy, maesiy, maesiy, maesiy\n",
      "True:  maesiy\n",
      "\n",
      "\n",
      "----- Example 27\n",
      "Input: mathes, mathis, matthis\n",
      "Pred:  maedhz, maethihs, maethihs\n",
      "True:  maethihs\n",
      "\n",
      "\n",
      "----- Example 28\n",
      "Input: mcelrath, mcelreath, mcilrath\n",
      "Pred:  maekahlraeth, maekahlreyth, maekahlraeth\n",
      "True:  maekahlraeth\n",
      "\n",
      "\n",
      "----- Example 29\n",
      "Input: millimeters, millimetres\n",
      "Pred:  mihlihmiyterz, mihlahmiyterz\n",
      "True:  mihlahmiyterz\n",
      "\n",
      "\n",
      "----- Example 30\n",
      "Input: naito, nato\n",
      "Pred:  neytow, naatow\n",
      "True:  neytow\n",
      "\n",
      "\n",
      "----- Example 31\n",
      "Input: nichole, nicole, nicolle\n",
      "Pred:  nihkahl, nihkowl, nihkahl\n",
      "True:  nihkowl\n",
      "\n",
      "\n",
      "----- Example 32\n",
      "Input: nicor, nycor\n",
      "Pred:  nihkaor, naykaor\n",
      "True:  naykaor\n",
      "\n",
      "\n",
      "----- Example 33\n",
      "Input: nolie, nolley\n",
      "Pred:  nowliy, naaliy\n",
      "True:  naaliy\n",
      "\n",
      "\n",
      "----- Example 34\n",
      "Input: panko, pankow\n",
      "Pred:  paengkow, paengkaw\n",
      "True:  paengkow\n",
      "\n",
      "\n",
      "----- Example 35\n",
      "Input: peaked, peeked, piqued\n",
      "Pred:  piykt, piykt, piykehd\n",
      "True:  piykt\n",
      "\n",
      "\n",
      "----- Example 36\n",
      "Input: perret, perrett, perritt\n",
      "Pred:  perriy, perriht, pehriht\n",
      "True:  perriht\n",
      "\n",
      "\n",
      "----- Example 37\n",
      "Input: pizza's, pizzas\n",
      "Pred:  piyzahz, piyzahz\n",
      "True:  piytsahz\n",
      "\n",
      "\n",
      "----- Example 38\n",
      "Input: quartet's, quartets\n",
      "Pred:  kwaortehz, kwaortehts\n",
      "True:  kwaortehts\n",
      "\n",
      "\n",
      "----- Example 39\n",
      "Input: reilly, riley, ryley, wryly\n",
      "Pred:  riyliy, rihliy, rihliy, rayliy\n",
      "True:  rayliy\n",
      "\n",
      "\n",
      "----- Example 40\n",
      "Input: renaud, reneau, ryno\n",
      "Pred:  rihnaod, rihnow, riynow\n",
      "True:  rihnow\n",
      "\n",
      "\n",
      "----- Example 41\n",
      "Input: sao, sow\n",
      "Pred:  sawow, sow\n",
      "True:  saw\n",
      "\n",
      "\n",
      "----- Example 42\n",
      "Input: saucer, sausser\n",
      "Pred:  saoser, sawser\n",
      "True:  saoser\n",
      "\n",
      "\n",
      "----- Example 43\n",
      "Input: seeks, seix, sikhs\n",
      "Pred:  siyks, sayks, sihks\n",
      "True:  siyks\n",
      "\n",
      "\n",
      "----- Example 44\n",
      "Input: species, species'\n",
      "Pred:  spiysiyz, spehsiyz\n",
      "True:  spiyshiyz\n",
      "\n",
      "\n",
      "----- Example 45\n",
      "Input: suc, suck, suk\n",
      "Pred:  suwk, sahk, sahk\n",
      "True:  sahk\n",
      "\n",
      "\n",
      "----- Example 46\n",
      "Input: suites, sweets\n",
      "Pred:  suwts, swiyts\n",
      "True:  swiyts\n",
      "\n",
      "\n",
      "----- Example 47\n",
      "Input: taverna's, tavernas\n",
      "Pred:  taavehrnahz, taavehrnahs\n",
      "True:  taavehrnahz\n",
      "\n",
      "\n",
      "----- Example 48\n",
      "Input: vancampen, vankampen\n",
      "Pred:  vaenkaempahn, vaengkaempahn\n",
      "True:  vaenkaempahn\n",
      "\n",
      "\n",
      "----- Example 49\n",
      "Input: vasquez, vazquez\n",
      "Pred:  vaaskwehz, vaaskwehz\n",
      "True:  vaeskehz\n",
      "\n",
      "\n",
      "----- Example 50\n",
      "Input: wank, wanke\n",
      "Pred:  waengk, waengk\n",
      "True:  waangk\n",
      "\n",
      "\n",
      "----- Example 51\n",
      "Input: weigl, weigle, wiegel\n",
      "Pred:  waygahl, waygahl, wiygahl\n",
      "True:  wiygahl\n",
      "\n",
      "\n",
      "----- Example 52\n",
      "Input: yousef, youssef, yusef\n",
      "Pred:  yawsfehf, yuwsfehf, yuwsahf\n",
      "True:  yuwsehf\n",
      "\n",
      "\n"
     ]
    }
   ],
   "source": [
    "## Print\n",
    "for i, difficult in enumerate(difficulty):\n",
    "    \n",
    "    print(\"----- Example \" + str(i))\n",
    "    print(\"Input: \" + \", \".join(difficult[\"inw\"]))\n",
    "    print(\"Pred:  \" + \", \".join(difficult[\"pred\"]))\n",
    "    print(\"True:  \" + difficult[\"ref\"])\n",
    "    print(\"\\n\")"
   ]
  },
  {
   "cell_type": "code",
   "execution_count": 56,
   "metadata": {},
   "outputs": [],
   "source": [
    "# To pandas dataframe\n",
    "import pandas as pd\n",
    "\n",
    "data_dev_hmp = {\n",
    "    \"in\":inwords,\n",
    "    \"pred\": outw_pred,\n",
    "    \"out\":outw,\n",
    "    \"equality\":equality,\n",
    "    \"props_comp_to_outcome\":props_comp_to_outcome,\n",
    "    \"props_comp_to_hmphones\":props_comp_to_hmphones,\n",
    "    \"props_all_equal\":props_all_equal\n",
    "}\n",
    "\n",
    "# To pandas df\n",
    "data_dev = pd.DataFrame.from_dict(data_dev_hmp)\n",
    "\n",
    "# To csv\n",
    "data_dev.to_csv(\"writeup/singlechar_dev_hmp.csv\")"
   ]
  },
  {
   "cell_type": "markdown",
   "metadata": {},
   "source": [
    "### Misspelled words"
   ]
  },
  {
   "cell_type": "code",
   "execution_count": 30,
   "metadata": {},
   "outputs": [],
   "source": [
    "## Load data\n",
    "misp = np.load('data/preprocessed/wikipedia_misspelled.npy')"
   ]
  },
  {
   "cell_type": "code",
   "execution_count": 45,
   "metadata": {
    "scrolled": true
   },
   "outputs": [
    {
     "name": "stdout",
     "output_type": "stream",
     "text": [
      "----------\n",
      "Misspelled: casued, Pred: kaesuwd\n",
      "Correct: caused, Pred: kaozd\n",
      "\n",
      "\n",
      "----------\n",
      "Misspelled: carryng, Pred: kaerihng\n",
      "Correct: carrying, Pred: kaeriyihng\n",
      "\n",
      "\n",
      "----------\n",
      "Misspelled: attendence, Pred: ahtehndahns\n",
      "Correct: attendance, Pred: ahtehndahns\n",
      "\n",
      "\n",
      "----------\n",
      "Misspelled: helment, Pred: hhehlmahnt\n",
      "Correct: helmet, Pred: hhehlmiht\n",
      "\n",
      "\n",
      "----------\n",
      "Misspelled: seperatism, Pred: sehperahtihzahm\n",
      "Correct: separatism, Pred: sehperahtihzahm\n",
      "\n",
      "\n",
      "----------\n",
      "Misspelled: condidtions, Pred: kahndihshahnz\n",
      "Correct: conditions, Pred: kahndihshahnz\n",
      "\n",
      "\n",
      "----------\n",
      "Misspelled: celcius, Pred: sehlsiyihs\n",
      "Correct: celsius, Pred: sehlsiyihs\n",
      "\n",
      "\n",
      "----------\n",
      "Misspelled: ceromony, Pred: sehrahmowniy\n",
      "Correct: ceremony, Pred: sehrahmowniy\n",
      "\n",
      "\n",
      "----------\n",
      "Misspelled: negotation, Pred: nehgahteyshahn\n",
      "Correct: negotiation, Pred: nihgowshiyeyshahn\n",
      "\n",
      "\n",
      "----------\n",
      "Misspelled: candiate, Pred: kaendiyaht\n",
      "Correct: candidate, Pred: kaendahdeyt\n",
      "\n",
      "\n",
      "----------\n",
      "Misspelled: agricuture, Pred: ahgrihkyahcher\n",
      "Correct: agriculture, Pred: aegrahkahlcher\n",
      "\n",
      "\n",
      "----------\n",
      "Misspelled: collonade, Pred: kaalahneyd\n",
      "Correct: colonnade, Pred: kaalahneyd\n",
      "\n",
      "\n",
      "----------\n",
      "Misspelled: asside, Pred: ahsayd\n",
      "Correct: aside, Pred: ahsayd\n",
      "\n",
      "\n",
      "----------\n",
      "Misspelled: immediatly, Pred: ihmiydiyahtliy\n",
      "Correct: immediately, Pred: ihmiydiyahtliy\n",
      "\n",
      "\n",
      "----------\n",
      "Misspelled: alledge, Pred: aelihjh\n",
      "Correct: allege, Pred: ahlehjh\n",
      "\n",
      "\n",
      "----------\n",
      "Misspelled: devistating, Pred: dehvihsteytihng\n",
      "Correct: devastating, Pred: dehvahsteytihng\n",
      "\n",
      "\n",
      "----------\n",
      "Misspelled: diminuitive, Pred: dihmihnyuwahtihv\n",
      "Correct: diminutive, Pred: dihmihnyahtihv\n",
      "\n",
      "\n",
      "----------\n",
      "Misspelled: foundland, Pred: fawndlahnd\n",
      "Correct: newfoundland, Pred: nuwfaandlahnd\n",
      "\n",
      "\n",
      "----------\n",
      "Misspelled: lonley, Pred: laanliy\n",
      "Correct: lonely, Pred: lownliy\n",
      "\n",
      "\n",
      "----------\n",
      "Misspelled: foundaries, Pred: fawnderiyz\n",
      "Correct: foundries, Pred: fawndriyz\n",
      "\n",
      "\n",
      "----------\n",
      "Misspelled: idiosyncracy, Pred: ihdiyowsihnkrahsiy\n",
      "Correct: idiosyncrasy, Pred: ihdiyowsihnsrahsiy\n",
      "\n",
      "\n",
      "----------\n",
      "Misspelled: sucessfuly, Pred: suwsahsfuhliy\n",
      "Correct: successfully, Pred: sahksehsfahliy\n",
      "\n",
      "\n",
      "----------\n",
      "Misspelled: renedered, Pred: rehnahdihrd\n",
      "Correct: rende, Pred: rehnd\n",
      "\n",
      "\n",
      "----------\n",
      "Misspelled: contraversy, Pred: kaantrahversiy\n",
      "Correct: controversy, Pred: kaantrahversiy\n",
      "\n",
      "\n",
      "----------\n",
      "Misspelled: influented, Pred: ihnfluwtahnd\n",
      "Correct: influenced, Pred: ihnfluwahnst\n",
      "\n",
      "\n",
      "----------\n",
      "Misspelled: successully, Pred: sahksehsahliy\n",
      "Correct: successfully, Pred: sahksehsfahliy\n",
      "\n",
      "\n",
      "----------\n",
      "Misspelled: eiter, Pred: ayter\n",
      "Correct: either, Pred: eydher\n",
      "\n",
      "\n",
      "----------\n",
      "Misspelled: algebraical, Pred: aeljhahbreyl\n",
      "Correct: algebraic, Pred: aeljhahbreyihk\n",
      "\n",
      "\n",
      "----------\n",
      "Misspelled: moeny, Pred: maaniy\n",
      "Correct: money, Pred: mowniy\n",
      "\n",
      "\n",
      "----------\n",
      "Misspelled: recuring, Pred: rihkyuhrihng\n",
      "Correct: recurring, Pred: rihkerihng\n",
      "\n",
      "\n",
      "----------\n",
      "Misspelled: scinece, Pred: sihnihs\n",
      "Correct: science, Pred: sayahns\n",
      "\n",
      "\n",
      "----------\n",
      "Misspelled: omlette, Pred: ahmleht\n",
      "Correct: omelette, Pred: aamleht\n",
      "\n",
      "\n",
      "----------\n",
      "Misspelled: opression, Pred: ahprehshahn\n",
      "Correct: oppression, Pred: ahprehshahn\n",
      "\n",
      "\n",
      "----------\n",
      "Misspelled: comback, Pred: kahmbaek\n",
      "Correct: comeback, Pred: kahmbaek\n",
      "\n",
      "\n",
      "----------\n",
      "Misspelled: subtances, Pred: sahbtahnsihz\n",
      "Correct: substances, Pred: sahbstahnsihz\n",
      "\n",
      "\n",
      "----------\n",
      "Misspelled: irrelevent, Pred: ihrehlahvahnt\n",
      "Correct: irrelevant, Pred: ihrehlahvahnt\n",
      "\n",
      "\n",
      "----------\n",
      "Misspelled: verisons, Pred: vehrihsahnz\n",
      "Correct: versions, Pred: verzhahnz\n",
      "\n",
      "\n",
      "----------\n",
      "Misspelled: prestigous, Pred: prehstahgahs\n",
      "Correct: prestigious, Pred: prehstihjhahs\n",
      "\n",
      "\n",
      "----------\n",
      "Misspelled: presidenital, Pred: prehzahdehnahtahl\n",
      "Correct: presidential, Pred: prehzahdehnchahl\n",
      "\n",
      "\n",
      "----------\n",
      "Misspelled: ghandi, Pred: gaandiy\n",
      "Correct: gandhi, Pred: gaendiy\n",
      "\n",
      "\n",
      "----------\n",
      "Misspelled: layed, Pred: leyd\n",
      "Correct: laid, Pred: leyd\n",
      "\n",
      "\n",
      "----------\n",
      "Misspelled: provinicial, Pred: praavahnihshahl\n",
      "Correct: provincial, Pred: prahvihshahl\n",
      "\n",
      "\n",
      "----------\n",
      "Misspelled: remembrence, Pred: rihmehmbrahns\n",
      "Correct: remembrance, Pred: rihmehmbrahns\n",
      "\n",
      "\n",
      "----------\n",
      "Misspelled: intrument, Pred: ihntrahmahnt\n",
      "Correct: instrument, Pred: ihnstrahmahnt\n",
      "\n",
      "\n",
      "----------\n",
      "Misspelled: remaing, Pred: riymeyihng\n",
      "Correct: remaining, Pred: rihmeynihng\n",
      "\n",
      "\n",
      "----------\n",
      "Misspelled: strenght, Pred: strehng\n",
      "Correct: strength, Pred: strehngkth\n",
      "\n",
      "\n"
     ]
    }
   ],
   "source": [
    "badpreds = []\n",
    "goodpreds = []\n",
    "tp = 0\n",
    "fp = 0\n",
    "tn = 0\n",
    "fn = 0\n",
    "wrong = []\n",
    "for (pair, score) in misp:\n",
    "    \n",
    "    # Predict pronunciation\n",
    "    try:\n",
    "        bpred = phonorm.predict(pair[0])\n",
    "        gpred = phonorm.predict(pair[1])\n",
    "    except:\n",
    "        continue\n",
    "    \n",
    "    badpreds.append(bpred)\n",
    "    goodpreds.append(gpred)\n",
    "    \n",
    "    # If bpred and gpred are the same and score == 1 (pronunciation of the words is the same), then add to accuracy\n",
    "    if bpred == gpred:\n",
    "        are_equal = True\n",
    "    else:\n",
    "        are_equal = False\n",
    "    \n",
    "    if score == 0:\n",
    "        if are_equal == False:\n",
    "            tn += 1\n",
    "        else:\n",
    "            fn += 1\n",
    "            wrong.append([pair, bool(score), [bpred, gpred], True])\n",
    "    else:\n",
    "        if are_equal:\n",
    "            tp += 1\n",
    "        else:\n",
    "            fp += 1\n",
    "            wrong.append([pair, bool(score), [bpred, gpred], False])\n",
    "    \n",
    "    # Print if random number > 0.99\n",
    "    if random.random() > 0.5:\n",
    "        ## Print\n",
    "        print(\"----------\")\n",
    "        print(\"Misspelled: \" + pair[0] + \", Pred: \" + bpred)\n",
    "        print(\"Correct: \" + pair[1] + \", Pred: \" + gpred)\n",
    "        print(\"\\n\")"
   ]
  },
  {
   "cell_type": "code",
   "execution_count": 49,
   "metadata": {},
   "outputs": [
    {
     "name": "stdout",
     "output_type": "stream",
     "text": [
      "Accuracy: 0.94\n",
      "Sensitivity: 0.868421052631579\n",
      "Specificity: 0.9242424242424242\n",
      "F1: 0.8954626334519573\n"
     ]
    }
   ],
   "source": [
    "# Metrics\n",
    "acc = (tp + tn) / (tp + fp + tn + fn)\n",
    "sens = tp / (tp + fn)\n",
    "spec = tn / (fn + tn)\n",
    "f1 = 2*(sens * spec) / (sens + spec)\n",
    "#-----\n",
    "\n",
    "print(\"Accuracy: \" + str(acc))\n",
    "print(\"Sensitivity: \" + str(sens))\n",
    "print(\"Specificity: \" + str(spec))\n",
    "print(\"F1: \" + str(f1))"
   ]
  },
  {
   "cell_type": "code",
   "execution_count": 44,
   "metadata": {},
   "outputs": [
    {
     "data": {
      "text/plain": [
       "[[['differentiatiations', 'differentiations'],\n",
       "  False,\n",
       "  ['dihferehnshiyeyshahnz', 'dihferehnshiyeyshahnz'],\n",
       "  True],\n",
       " [['rebiulding', 'rebuilding'], False, ['riybihldihng', 'riybihldihng'], True],\n",
       " [['opression', 'oppression'], False, ['ahprehshahn', 'ahprehshahn'], True],\n",
       " [['ghandi', 'gandhi'], True, ['gaandiy', 'gaendiy'], False],\n",
       " [['statememts', 'statements'], False, ['steytmahnts', 'steytmahnts'], True],\n",
       " [['excange', 'exchange'], False, ['ihkscheynjh', 'ihkscheynjh'], True]]"
      ]
     },
     "execution_count": 44,
     "metadata": {},
     "output_type": "execute_result"
    }
   ],
   "source": [
    "wrong"
   ]
  }
 ],
 "metadata": {
  "kernelspec": {
   "display_name": "tf-gpu",
   "language": "python",
   "name": "tf-gpu"
  },
  "language_info": {
   "codemirror_mode": {
    "name": "ipython",
    "version": 3
   },
   "file_extension": ".py",
   "mimetype": "text/x-python",
   "name": "python",
   "nbconvert_exporter": "python",
   "pygments_lexer": "ipython3",
   "version": "3.6.7"
  }
 },
 "nbformat": 4,
 "nbformat_minor": 2
}
