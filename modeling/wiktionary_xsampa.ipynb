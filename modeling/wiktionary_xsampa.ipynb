{
 "cells": [
  {
   "cell_type": "code",
   "execution_count": 1,
   "metadata": {},
   "outputs": [
    {
     "name": "stderr",
     "output_type": "stream",
     "text": [
      "Using TensorFlow backend.\n"
     ]
    }
   ],
   "source": [
    "# Modules & set directory\n",
    "\n",
    "import os\n",
    "os.chdir(\"C:/Users/jaspe/PycharmProjects/phonorm\")\n",
    "\n",
    "from phonorm.utilities import create_mapping, tensor_from_pair, one_hot_encode, decode_from_ohe\n",
    "from phonorm.tests import check_ohe\n",
    "from phonorm.evaluate import plot_model_history, decode_sequence, evaluate_bleu\n",
    "from phonorm.Seq2Seq import Seq2Seq\n",
    "from keras.optimizers import Adam\n",
    "import numpy as np\n",
    "import random"
   ]
  },
  {
   "cell_type": "code",
   "execution_count": 2,
   "metadata": {},
   "outputs": [],
   "source": [
    "# Load preprocessed data\n",
    "pairs = np.load(\"data/preprocessed/wikt2pron_train.npy\")"
   ]
  },
  {
   "cell_type": "code",
   "execution_count": 3,
   "metadata": {},
   "outputs": [],
   "source": [
    "# Create mapping\n",
    "input_lang, output_lang = create_mapping(\"input\", \"output\", pairs)\n",
    "\n",
    "# Sample training pairs (len(pairs) == entire training data set)\n",
    "ml = len(pairs)\n",
    "random.seed(245)\n",
    "pairs_array = [random.choice(pairs) for i in range(ml)]\n",
    "\n",
    "# Split array into input / output vectors\n",
    "input_array = [pair[0] for pair in pairs_array]\n",
    "output_array = [pair[1] for pair in pairs_array]"
   ]
  },
  {
   "cell_type": "code",
   "execution_count": 4,
   "metadata": {},
   "outputs": [],
   "source": [
    "## One-hot encoding\n",
    "encoder_in_ohe = one_hot_encode(input_array, input_lang)\n",
    "decoder_in_ohe = one_hot_encode(output_array, output_lang)\n",
    "decoder_out_ohe = one_hot_encode(output_array, output_lang, one_timestep_ahead=True)"
   ]
  },
  {
   "cell_type": "code",
   "execution_count": 5,
   "metadata": {},
   "outputs": [
    {
     "name": "stdout",
     "output_type": "stream",
     "text": [
      "decoded and 'target decoded' should be the same\n",
      "\n",
      "---- Example 0\n",
      "Input: smote, decoded: smote\n",
      "Output: /sm@Ut/, decoded: /sm@Ut/, target decoded: /sm@Ut/\n",
      "\n",
      "\n",
      "---- Example 1\n",
      "Input: cared, decoded: cared\n",
      "Output: /kEr\\d/, decoded: /kEr\\d/, target decoded: /kEr\\d/\n",
      "\n",
      "\n",
      "---- Example 2\n",
      "Input: janus, decoded: janus\n",
      "Output: /\"dZeIn@s/, decoded: /\"dZeIn@s/, target decoded: /\"dZeIn@s/\n",
      "\n",
      "\n",
      "---- Example 3\n",
      "Input: copula, decoded: copula\n",
      "Output: /\"kQpjUl@/, decoded: /\"kQpjUl@/, target decoded: /\"kQpjUl@/\n",
      "\n",
      "\n",
      "---- Example 4\n",
      "Input: affine, decoded: affine\n",
      "Output: /@\"faIn/, decoded: /@\"faIn/, target decoded: /@\"faIn/\n",
      "\n",
      "\n"
     ]
    }
   ],
   "source": [
    "## Check if one-hot encoding works properly by sampling 5 random pairs\n",
    "check_ohe(pairs, input_lang, output_lang, 5)"
   ]
  },
  {
   "cell_type": "markdown",
   "metadata": {},
   "source": [
    "## Training the model"
   ]
  },
  {
   "cell_type": "code",
   "execution_count": 6,
   "metadata": {},
   "outputs": [],
   "source": [
    "## Try\n",
    "phonorm = Seq2Seq(512, input_lang, output_lang)\n",
    "\n",
    "## Encoder\n",
    "phonorm.Encoder(input_lang.n_chars, dropout_prop=0.1, recurrent_dropout_prop=0.1)\n",
    "\n",
    "## Decoder\n",
    "phonorm.Decoder(output_lang.n_chars, dropout_prop=0.1, recurrent_dropout_prop=0.1)"
   ]
  },
  {
   "cell_type": "code",
   "execution_count": 9,
   "metadata": {},
   "outputs": [
    {
     "name": "stdout",
     "output_type": "stream",
     "text": [
      "__________________________________________________________________________________________________\n",
      "Layer (type)                    Output Shape         Param #     Connected to                     \n",
      "==================================================================================================\n",
      "input_1 (InputLayer)            (None, None, 30)     0                                            \n",
      "__________________________________________________________________________________________________\n",
      "bidirectional_1 (Bidirectional) [(None, 1024), (None 2224128     input_1[0][0]                    \n",
      "__________________________________________________________________________________________________\n",
      "input_2 (InputLayer)            (None, None, 106)    0                                            \n",
      "__________________________________________________________________________________________________\n",
      "concatenate_1 (Concatenate)     (None, 1024)         0           bidirectional_1[0][1]            \n",
      "                                                                 bidirectional_1[0][3]            \n",
      "                                                                 bidirectional_1[0][2]            \n",
      "                                                                 bidirectional_1[0][4]            \n",
      "__________________________________________________________________________________________________\n",
      "lstm_2 (LSTM)                   [(None, None, 1024), 4632576     input_2[0][0]                    \n",
      "                                                                 concatenate_1[0][0]              \n",
      "                                                                 concatenate_1[1][0]              \n",
      "__________________________________________________________________________________________________\n",
      "dense_1 (Dense)                 (None, None, 106)    108650      lstm_2[0][0]                     \n",
      "==================================================================================================\n",
      "Total params: 6,965,354\n",
      "Trainable params: 6,965,354\n",
      "Non-trainable params: 0\n",
      "__________________________________________________________________________________________________\n"
     ]
    }
   ],
   "source": [
    "## Compile the phonorm model\n",
    "phonorm.compile_model(print_summary = True, optimizer = Adam(lr=0.002, beta_1=0.9, beta_2=0.999, epsilon=None, decay=0.0, amsgrad=False))"
   ]
  },
  {
   "cell_type": "code",
   "execution_count": 10,
   "metadata": {},
   "outputs": [
    {
     "name": "stdout",
     "output_type": "stream",
     "text": [
      "Train on 42769 samples, validate on 2252 samples\n",
      "Epoch 1/10\n",
      "42769/42769 [==============================] - 174s 4ms/step - loss: 0.3917 - val_loss: 0.2286\n",
      "Epoch 2/10\n",
      "42769/42769 [==============================] - 167s 4ms/step - loss: 0.1903 - val_loss: 0.1407\n",
      "Epoch 3/10\n",
      "42769/42769 [==============================] - 168s 4ms/step - loss: 0.1355 - val_loss: 0.1053\n",
      "Epoch 4/10\n",
      "42769/42769 [==============================] - 168s 4ms/step - loss: 0.1090 - val_loss: 0.0904\n",
      "Epoch 5/10\n",
      "42769/42769 [==============================] - 168s 4ms/step - loss: 0.0908 - val_loss: 0.0799\n",
      "Epoch 6/10\n",
      "42769/42769 [==============================] - 167s 4ms/step - loss: 0.0777 - val_loss: 0.0721\n",
      "Epoch 7/10\n",
      "42769/42769 [==============================] - 168s 4ms/step - loss: 0.0670 - val_loss: 0.0667\n",
      "Epoch 8/10\n",
      "42769/42769 [==============================] - 168s 4ms/step - loss: 0.0586 - val_loss: 0.0625\n",
      "Epoch 9/10\n",
      "42769/42769 [==============================] - 168s 4ms/step - loss: 0.0516 - val_loss: 0.0598\n",
      "Epoch 10/10\n",
      "42769/42769 [==============================] - 167s 4ms/step - loss: 0.0457 - val_loss: 0.0584\n"
     ]
    },
    {
     "data": {
      "image/png": "[encoded data removed]",
      "text/plain": [
       "<Figure size 432x288 with 1 Axes>"
      ]
     },
     "metadata": {
      "needs_background": "light"
     },
     "output_type": "display_data"
    }
   ],
   "source": [
    "## Fit the model\n",
    "phonorm.fit([encoder_in_ohe, decoder_in_ohe], decoder_out_ohe, batch_size = 128, epochs = 10)"
   ]
  },
  {
   "cell_type": "code",
   "execution_count": 27,
   "metadata": {},
   "outputs": [
    {
     "data": {
      "text/plain": [
       "('/\"aks.I.@m/', '/\"{k.sI.@m/')"
      ]
     },
     "execution_count": 27,
     "metadata": {},
     "output_type": "execute_result"
    }
   ],
   "source": [
    "# Predct\n",
    "phonorm.predict(\"axiom\"), phonorm.predict(\"aksiom\")"
   ]
  },
  {
   "cell_type": "code",
   "execution_count": 10,
   "metadata": {},
   "outputs": [
    {
     "name": "stderr",
     "output_type": "stream",
     "text": [
      "C:\\Users\\jaspe\\Anaconda3\\envs\\phonorm\\lib\\site-packages\\keras\\engine\\network.py:877: UserWarning: Layer lstm_2 was passed non-serializable keyword arguments: {'initial_state': [<tf.Tensor 'concatenate_1/concat:0' shape=(?, 1024) dtype=float32>, <tf.Tensor 'concatenate_1_1/concat:0' shape=(?, 1024) dtype=float32>]}. They will not be included in the serialized model (and thus will be missing at deserialization time).\n",
      "  '. They will not be included '\n"
     ]
    }
   ],
   "source": [
    "# Save model\n",
    "phonorm.save(\"models/wiktionary/wiktionary_model_10EP_H512\")"
   ]
  },
  {
   "cell_type": "code",
   "execution_count": 63,
   "metadata": {},
   "outputs": [
    {
     "data": {
      "text/plain": [
       "<keras.callbacks.History at 0x2163038ce48>"
      ]
     },
     "execution_count": 63,
     "metadata": {},
     "output_type": "execute_result"
    }
   ],
   "source": [
    "phonorm.history"
   ]
  },
  {
   "cell_type": "code",
   "execution_count": 6,
   "metadata": {},
   "outputs": [],
   "source": [
    "## Try\n",
    "phonorm = Seq2Seq(512, input_lang, output_lang)\n",
    "phonorm.load(\"models/wiktionary/wiktionary_model_10EP_H512\")"
   ]
  },
  {
   "cell_type": "markdown",
   "metadata": {},
   "source": [
    "## Evaluate the model on generic dev set\n",
    "\n",
    "The model should perform well in terms of [BLEU score](https://machinelearningmastery.com/calculate-bleu-score-for-text-python/). This is a measure of 'skill' for the model."
   ]
  },
  {
   "cell_type": "code",
   "execution_count": 9,
   "metadata": {},
   "outputs": [],
   "source": [
    "# Load dev set\n",
    "devpairs = np.load(\"data/preprocessed/wikt2pron_dev.npy\")"
   ]
  },
  {
   "cell_type": "code",
   "execution_count": 10,
   "metadata": {},
   "outputs": [],
   "source": [
    "# Make predictions\n",
    "inWords = [pair[0] for pair in devpairs]\n",
    "outWords = [pair[1] for pair in devpairs]"
   ]
  },
  {
   "cell_type": "code",
   "execution_count": 11,
   "metadata": {},
   "outputs": [
    {
     "name": "stderr",
     "output_type": "stream",
     "text": [
      "C:\\Users\\jaspe\\Anaconda3\\envs\\phonorm\\lib\\site-packages\\nltk\\translate\\bleu_score.py:503: UserWarning: \n",
      "The hypothesis contains 0 counts of 4-gram overlaps.\n",
      "Therefore the BLEU score evaluates to 0, independently of\n",
      "how many N-gram overlaps of lower order it contains.\n",
      "Consider using lower n-gram order or use SmoothingFunction()\n",
      "  warnings.warn(_msg)\n",
      "C:\\Users\\jaspe\\Anaconda3\\envs\\phonorm\\lib\\site-packages\\nltk\\translate\\bleu_score.py:503: UserWarning: \n",
      "The hypothesis contains 0 counts of 3-gram overlaps.\n",
      "Therefore the BLEU score evaluates to 0, independently of\n",
      "how many N-gram overlaps of lower order it contains.\n",
      "Consider using lower n-gram order or use SmoothingFunction()\n",
      "  warnings.warn(_msg)\n",
      "C:\\Users\\jaspe\\Anaconda3\\envs\\phonorm\\lib\\site-packages\\nltk\\translate\\bleu_score.py:503: UserWarning: \n",
      "The hypothesis contains 0 counts of 2-gram overlaps.\n",
      "Therefore the BLEU score evaluates to 0, independently of\n",
      "how many N-gram overlaps of lower order it contains.\n",
      "Consider using lower n-gram order or use SmoothingFunction()\n",
      "  warnings.warn(_msg)\n"
     ]
    },
    {
     "name": "stdout",
     "output_type": "stream",
     "text": [
      "--- Sample 130\n",
      "Word: capsize\n",
      "Ref: /k{p\"saIz/\n",
      "Pred: /\"k{psaIz/\n",
      "\n",
      "\n",
      "--- Sample 285\n",
      "Word: plasmodium\n",
      "Ref: /plaz\"m@UdI@m/\n",
      "Pred: /pl{z\"moUdi.@m/\n",
      "\n",
      "\n"
     ]
    }
   ],
   "source": [
    "bs_out = []\n",
    "preds = []\n",
    "for i, (inw, outw) in enumerate(devpairs):\n",
    "    \n",
    "    # Predict pronunciation\n",
    "    pred = phonorm.predict(inw)\n",
    "    preds.append(pred)\n",
    "    \n",
    "    # Print if random number > 0.99\n",
    "    if random.random() > 0.99:\n",
    "        ## Print\n",
    "        print(\"--- Sample \" + str(i))\n",
    "        print(\"Word: \" + inw)\n",
    "        print(\"Ref: \" + outw.replace(\" \", \"\").replace(\"\\n\", \"\").replace(\"\\t\", \"\"))\n",
    "        print(\"Pred: \" + pred)\n",
    "        print(\"\\n\")\n",
    "    ## Calculate bleu score\n",
    "    bs_out.append(evaluate_bleu(outw.replace(\" \", \"\").replace(\"\\n\", \"\").replace(\"\\t\", \"\"), pred))\n"
   ]
  },
  {
   "cell_type": "code",
   "execution_count": 12,
   "metadata": {},
   "outputs": [],
   "source": [
    "# Bleu score\n",
    "bs_1 = [bs[0].tolist()[0] for bs in bs_out]\n",
    "bs_2 = [bs[1].tolist()[0] for bs in bs_out]\n",
    "bs_3 = [bs[2].tolist()[0] for bs in bs_out]\n",
    "bs_4 = [bs[3].tolist()[0] for bs in bs_out]"
   ]
  },
  {
   "cell_type": "code",
   "execution_count": 13,
   "metadata": {},
   "outputs": [],
   "source": [
    "import matplotlib.pyplot as plt\n",
    "\n",
    "## Plot bleu score function\n",
    "def plot_bleu(data, index = 1):\n",
    "    \n",
    "    #%matplotlib inline\n",
    "    plt.hist(data, normed=True, bins=15)\n",
    "    plt.ylabel('BLEU score')\n",
    "    plt.show()"
   ]
  },
  {
   "cell_type": "code",
   "execution_count": 14,
   "metadata": {},
   "outputs": [
    {
     "name": "stdout",
     "output_type": "stream",
     "text": [
      "1-grams avg: 0.85\n",
      "2-grams avg: 0.75\n",
      "3-grams avg: 0.67\n",
      "4-grams avg: 0.58\n"
     ]
    },
    {
     "name": "stderr",
     "output_type": "stream",
     "text": [
      "C:\\Users\\jaspe\\Anaconda3\\envs\\phonorm\\lib\\site-packages\\matplotlib\\axes\\_axes.py:6510: MatplotlibDeprecationWarning: \n",
      "The 'normed' kwarg was deprecated in Matplotlib 2.1 and will be removed in 3.1. Use 'density' instead.\n",
      "  alternative=\"'density'\", removal=\"3.1\")\n"
     ]
    },
    {
     "data": {
      "image/png": "[encoded data removed]",
      "text/plain": [
       "<Figure size 432x288 with 1 Axes>"
      ]
     },
     "metadata": {
      "needs_background": "light"
     },
     "output_type": "display_data"
    },
    {
     "data": {
      "image/png": "[encoded data removed]",
      "text/plain": [
       "<Figure size 432x288 with 1 Axes>"
      ]
     },
     "metadata": {
      "needs_background": "light"
     },
     "output_type": "display_data"
    },
    {
     "data": {
      "image/png": "[encoded data removed]",
      "text/plain": [
       "<Figure size 432x288 with 1 Axes>"
      ]
     },
     "metadata": {
      "needs_background": "light"
     },
     "output_type": "display_data"
    },
    {
     "data": {
      "image/png": "[encoded data removed]",
      "text/plain": [
       "<Figure size 432x288 with 1 Axes>"
      ]
     },
     "metadata": {
      "needs_background": "light"
     },
     "output_type": "display_data"
    }
   ],
   "source": [
    "print(\"1-grams avg: \" + str(np.round(np.mean(bs_1),decimals=2)))\n",
    "print(\"2-grams avg: \" + str(np.round(np.mean(bs_2),decimals=2)))\n",
    "print(\"3-grams avg: \" + str(np.round(np.mean(bs_3),decimals=2)))\n",
    "print(\"4-grams avg: \" + str(np.round(np.mean(bs_4),decimals=2)))\n",
    "plot_bleu(bs_1, 1)\n",
    "plot_bleu(bs_2, 2)\n",
    "plot_bleu(bs_3, 3)\n",
    "plot_bleu(bs_3, 4)"
   ]
  },
  {
   "cell_type": "code",
   "execution_count": 15,
   "metadata": {},
   "outputs": [
    {
     "data": {
      "text/plain": [
       "True"
      ]
     },
     "execution_count": 15,
     "metadata": {},
     "output_type": "execute_result"
    }
   ],
   "source": [
    "## Are there words that are predicted to be the same but are not in actuality\n",
    "from collections import Counter\n",
    "c = Counter(preds)\n",
    "\n",
    "## Is the sum of the predicted frequencies shorter than the dev set?\n",
    "## If so, then there are duplicates.\n",
    "## This is an issue because we know that the dev set has homophones\n",
    "sum(c.values()) == len(devpairs)"
   ]
  },
  {
   "cell_type": "code",
   "execution_count": 16,
   "metadata": {},
   "outputs": [
    {
     "name": "stdout",
     "output_type": "stream",
     "text": [
      "In: 300\n",
      "Out: 300\n",
      "Pred: 300\n",
      "BS1: 300\n",
      "BS2: 300\n",
      "BS3: 300\n",
      "BS4: 300\n"
     ]
    }
   ],
   "source": [
    "## Save data\n",
    "import pandas as pd\n",
    "print(\"In: \" + str(len(inWords)))\n",
    "print(\"Out: \" + str(len(outWords)))\n",
    "print(\"Pred: \" + str(len(preds)))\n",
    "print(\"BS1: \" + str(len(bs_1)))\n",
    "print(\"BS2: \" + str(len(bs_2)))\n",
    "print(\"BS3: \" + str(len(bs_3)))\n",
    "print(\"BS4: \" + str(len(bs_4)))\n",
    "\n",
    "# To dict\n",
    "data_dev = {\n",
    "    \"in\":inWords,\n",
    "    \"out\":outWords,\n",
    "    \"pred\":preds,\n",
    "    \"bs1\":bs_1,\n",
    "    \"bs2\":bs_2,\n",
    "    \"bs3\":bs_3,\n",
    "    \"bs4\":bs_4\n",
    "}\n",
    "\n",
    "# To pandas df\n",
    "data_dev = pd.DataFrame.from_dict(data_dev)\n",
    "\n",
    "# To csv\n",
    "data_dev.to_csv(\"writeup/xsampa_dev.csv\")"
   ]
  },
  {
   "cell_type": "code",
   "execution_count": 7,
   "metadata": {},
   "outputs": [],
   "source": [
    "## Check out homophones set\n",
    "devhmp = np.load(\"data/preprocessed/wikt2pron_homophone_dev.npy\")"
   ]
  },
  {
   "cell_type": "code",
   "execution_count": 8,
   "metadata": {},
   "outputs": [
    {
     "name": "stdout",
     "output_type": "stream",
     "text": [
      "Unique pronunciations: 81\n",
      "Homophones dev entries: 172\n"
     ]
    }
   ],
   "source": [
    "## Get unique pronunciations\n",
    "unique_pronuns = []\n",
    "for hmp in devhmp:\n",
    "    if hmp[1] in unique_pronuns:\n",
    "        continue\n",
    "    else:\n",
    "        unique_pronuns.append(hmp[1])\n",
    "        \n",
    "print(\"Unique pronunciations: \" + str(len(unique_pronuns)))\n",
    "print(\"Homophones dev entries: \" + str(len(devhmp)))"
   ]
  },
  {
   "cell_type": "code",
   "execution_count": 9,
   "metadata": {},
   "outputs": [],
   "source": [
    "equality = []\n",
    "difficulty = []\n",
    "inwords = []\n",
    "outw = []\n",
    "outw_pred = []\n",
    "props_comp_to_outcome = []\n",
    "props_comp_to_hmphones = []\n",
    "props_all_equal = []\n",
    "## For each unique pronunciation, predict\n",
    "for pronun in unique_pronuns:\n",
    "    \n",
    "    ## Get entries where pronunciation is pronun\n",
    "    pronun_entries_tmp = [entry for entry in devhmp if entry[1] == pronun]\n",
    "    \n",
    "    if len(pronun_entries_tmp) < 2:\n",
    "        continue\n",
    "    else:\n",
    "        pronun_entries = pronun_entries_tmp\n",
    "        \n",
    "    ## Calculate equality score\n",
    "    out_ref = pronun.replace(\" \", \"\").replace(\"\\t\", \"\").replace(\"\\n\", \"\")\n",
    "    \n",
    "    ## Predict inwords\n",
    "    out_pred = [phonorm.predict(pronun_entry[0]) for pronun_entry in pronun_entries]\n",
    "    \n",
    "    ## Add to list\n",
    "    inwords.append(\"; \".join([inw[0] for inw in pronun_entries_tmp]))\n",
    "    outw.append(out_ref)\n",
    "    outw_pred.append(\"; \".join(out_pred))\n",
    "    \n",
    "    ## Equal to out?\n",
    "    comp = [pred == out_ref for pred in out_pred]\n",
    "    equality.append(comp)\n",
    "    \n",
    "    ## Proportion correct\n",
    "    ## NB. also count instances where all entries are wrong but the same\n",
    "    props_comp_to_outcome.append(np.sum(comp) / len(comp))\n",
    "    \n",
    "    ## Keep track of scores in a slighly different way --> look how many of the subgroups are equal to one another\n",
    "    scores = []\n",
    "    for grp in np.unique(out_pred):\n",
    "        scores.append(np.sum([True if pr == grp else False for pr in out_pred]))\n",
    "    \n",
    "    props_comp_to_hmphones.append(scores[np.argmax(scores)] / sum(scores))\n",
    "    \n",
    "    ## All equal\n",
    "    props_all_equal.append(int(np.all(comp)))\n",
    "    \n",
    "    ## If proportion low, then add to difficult\n",
    "    if (np.sum(comp) / len(comp)) < 0.8:\n",
    "        \n",
    "        difficulty.append(\n",
    "            {\"ref\":out_ref,\n",
    "            \"pred\":out_pred,\n",
    "            \"inw\":[entry[0] for entry in pronun_entries]}\n",
    "        )"
   ]
  },
  {
   "cell_type": "code",
   "execution_count": 10,
   "metadata": {},
   "outputs": [
    {
     "name": "stdout",
     "output_type": "stream",
     "text": [
      "Equal to outcome: 0.62\n",
      "Highest subgroup: 0.8\n",
      "All equal: 0.48\n"
     ]
    }
   ],
   "source": [
    "print(\"Equal to outcome: \" + str(np.round(np.mean(props_comp_to_outcome), decimals=2)))\n",
    "print(\"Highest subgroup: \" + str(np.round(np.mean(props_comp_to_hmphones), decimals=2)))\n",
    "print(\"All equal: \" + str(np.round(np.sum(props_all_equal) / len(props_all_equal), decimals=2)))"
   ]
  },
  {
   "cell_type": "code",
   "execution_count": 11,
   "metadata": {},
   "outputs": [
    {
     "name": "stdout",
     "output_type": "stream",
     "text": [
      "----- Example 0\n",
      "Input: ab, abb\n",
      "Pred:  /Ab/, /{b/\n",
      "True:  /{b/\n",
      "\n",
      "\n",
      "----- Example 1\n",
      "Input: few, feu, phew\n",
      "Pred:  /fju:/, /fju:/, /\"fju:.i/\n",
      "True:  /fju:/\n",
      "\n",
      "\n",
      "----- Example 2\n",
      "Input: coin, quoin, coign\n",
      "Pred:  /kOIn/, /\"kwi:Qn/, /kOIn/\n",
      "True:  /kOIn/\n",
      "\n",
      "\n",
      "----- Example 3\n",
      "Input: flee, flea\n",
      "Pred:  /fli:/, /\"fli:@/\n",
      "True:  /fli:/\n",
      "\n",
      "\n",
      "----- Example 4\n",
      "Input: flew, flu, flue\n",
      "Pred:  /\"flu:/, /flVb/, /flu:/\n",
      "True:  /flu:/\n",
      "\n",
      "\n",
      "----- Example 5\n",
      "Input: femme, fem\n",
      "Pred:  /\"fEm/, /fEm/\n",
      "True:  /fEm/\n",
      "\n",
      "\n",
      "----- Example 6\n",
      "Input: masque, masc\n",
      "Pred:  /mA:sk/, /m{sk/\n",
      "True:  /m{sk/\n",
      "\n",
      "\n",
      "----- Example 7\n",
      "Input: breast, brest\n",
      "Pred:  /br\\i:st/, /br\\Est/\n",
      "True:  /br\\Est/\n",
      "\n",
      "\n",
      "----- Example 8\n",
      "Input: bath, bath\n",
      "Pred:  /b{T/, /b{T/\n",
      "True:  /bA:T/\n",
      "\n",
      "\n",
      "----- Example 9\n",
      "Input: marathon, marathon\n",
      "Pred:  /\"mar\\@tQn/, /\"mar\\@tQn/\n",
      "True:  /\"m{r\\@T@n/\n",
      "\n",
      "\n",
      "----- Example 10\n",
      "Input: gaul, gall\n",
      "Pred:  [gO:l], /gO:l/\n",
      "True:  /gO:l/\n",
      "\n",
      "\n",
      "----- Example 11\n",
      "Input: liar, lyre, lier\n",
      "Pred:  /\"laI@/, /laI@(r\\)/, /\"lI@/\n",
      "True:  /\"laI.@/\n",
      "\n",
      "\n",
      "----- Example 12\n",
      "Input: sow, sough\n",
      "Pred:  /s@U/, /sVf/\n",
      "True:  /saU/\n",
      "\n",
      "\n",
      "----- Example 13\n",
      "Input: incubus, incubous\n",
      "Pred:  /In\"kju:b@s/, /\"In.kj@.b@s/\n",
      "True:  /\"IN.kjU.b@s/\n",
      "\n",
      "\n",
      "----- Example 14\n",
      "Input: tsunami, sunami\n",
      "Pred:  /tju:\"nA:mi:/, /\"su:n@mi/\n",
      "True:  /su:\"nA:mi/\n",
      "\n",
      "\n",
      "----- Example 15\n",
      "Input: texas, texas\n",
      "Pred:  /\"tEks@s/, /\"tEks@s/\n",
      "True:  /\"tEk.s@s/\n",
      "\n",
      "\n",
      "----- Example 16\n",
      "Input: wroth, wrath\n",
      "Pred:  /r\\QT/, /r\\{T/\n",
      "True:  /r\\QT/\n",
      "\n",
      "\n",
      "----- Example 17\n",
      "Input: stake, steak\n",
      "Pred:  /steIk/, /sti:k/\n",
      "True:  /steIk/\n",
      "\n",
      "\n",
      "----- Example 18\n",
      "Input: gypsy, gypsy\n",
      "Pred:  /\"gIpsi/, /\"gIpsi/\n",
      "True:  /\"d__ZIp.si/\n",
      "\n",
      "\n",
      "----- Example 19\n",
      "Input: eyelet, islet\n",
      "Pred:  /\"aI@lEt/, /I\"slEt/\n",
      "True:  /\"aI.l@t/\n",
      "\n",
      "\n",
      "----- Example 20\n",
      "Input: whop, wop\n",
      "Pred:  /hup/, /wQp/\n",
      "True:  /wQp/\n",
      "\n",
      "\n",
      "----- Example 21\n",
      "Input: bail, bale\n",
      "Pred:  [beI5], /beIl/\n",
      "True:  /beI_^l/\n",
      "\n",
      "\n",
      "----- Example 22\n",
      "Input: leech, leach\n",
      "Pred:  /li:tS/, /li:t__S/\n",
      "True:  /li:tS/\n",
      "\n",
      "\n",
      "----- Example 23\n",
      "Input: burner, burner\n",
      "Pred:  /\"b3:n@(r\\)/, /\"b3:n@(r\\)/\n",
      "True:  /\"b3:n@/\n",
      "\n",
      "\n",
      "----- Example 24\n",
      "Input: nemesis, nemesis\n",
      "Pred:  /n@\"mi:sIs/, /n@\"mi:sIs/\n",
      "True:  /\"nEm@sIs/\n",
      "\n",
      "\n",
      "----- Example 25\n",
      "Input: edema, oedema\n",
      "Pred:  /\"E.dI.m@/, /\"i:dEm@/\n",
      "True:  /I.\"di:.m@/\n",
      "\n",
      "\n",
      "----- Example 26\n",
      "Input: loath, loth\n",
      "Pred:  /\"l@UT/, /l@UT/\n",
      "True:  /l@UT/\n",
      "\n",
      "\n",
      "----- Example 27\n",
      "Input: termagant, termagant\n",
      "Pred:  /\"t3:(r\\).m@.g@nt/, /\"t3:(r\\).m@.g@nt/\n",
      "True:  /\"t3:m@g@nt/\n",
      "\n",
      "\n",
      "----- Example 28\n",
      "Input: hun, hon\n",
      "Pred:  /hVn/, /hQn/\n",
      "True:  /hVn/\n",
      "\n",
      "\n",
      "----- Example 29\n",
      "Input: digs, digges\n",
      "Pred:  /dIgz/, /\"dIgIz/\n",
      "True:  /dIgz/\n",
      "\n",
      "\n",
      "----- Example 30\n",
      "Input: lays, laze, leis\n",
      "Pred:  /leIz/, /leIz/, /li:z/\n",
      "True:  /leIz/\n",
      "\n",
      "\n",
      "----- Example 31\n",
      "Input: custrel, coistrel\n",
      "Pred:  /\"kVstr\\@l/, /\"k@Ustr\\@l/\n",
      "True:  /\"kVstr\\@l/\n",
      "\n",
      "\n",
      "----- Example 32\n",
      "Input: debouch, debouche\n",
      "Pred:  /di:\"baUtS/, /di:\"baUtS/\n",
      "True:  /dI\"bu:S/\n",
      "\n",
      "\n",
      "----- Example 33\n",
      "Input: teamster, teamster\n",
      "Pred:  /\"ti:mst@`/, /\"ti:mst@`/\n",
      "True:  /\"tim.st@`/\n",
      "\n",
      "\n",
      "----- Example 34\n",
      "Input: tipi, teepee\n",
      "Pred:  /\"taIpi/, /\"ti:pi:/\n",
      "True:  /\"ti:pi/\n",
      "\n",
      "\n",
      "----- Example 35\n",
      "Input: lisle, lyle\n",
      "Pred:  /\"lIz@l/, /laIl/\n",
      "True:  /laIl/\n",
      "\n",
      "\n",
      "----- Example 36\n",
      "Input: cline, klein\n",
      "Pred:  /klaIn/, /kli:n/\n",
      "True:  /klaIn/\n",
      "\n",
      "\n",
      "----- Example 37\n",
      "Input: flues, flus\n",
      "Pred:  /flu:z/, /\"flVs/\n",
      "True:  /flu:z/\n",
      "\n",
      "\n",
      "----- Example 38\n",
      "Input: luan, lauan\n",
      "Pred:  /\"lu:Qn/, /\"laU.@n/\n",
      "True:  /\"lu(w)An/\n",
      "\n",
      "\n",
      "----- Example 39\n",
      "Input: vandalic, vandalic\n",
      "Pred:  /v{nd@\"lIk/, /v{nd@\"lIk/\n",
      "True:  /v{n\"d{lIk/\n",
      "\n",
      "\n",
      "----- Example 40\n",
      "Input: muslima, muslimah\n",
      "Pred:  /\"mVlsIm@/, /\"mVslImA:/\n",
      "True:  /\"mUzlIm@/\n",
      "\n",
      "\n",
      "----- Example 41\n",
      "Input: fios, fiss\n",
      "Pred:  /\"faI@s/, /fIs/\n",
      "True:  /fIs/\n",
      "\n",
      "\n"
     ]
    }
   ],
   "source": [
    "## Print\n",
    "for i, difficult in enumerate(difficulty):\n",
    "    \n",
    "    print(\"----- Example \" + str(i))\n",
    "    print(\"Input: \" + \", \".join(difficult[\"inw\"]))\n",
    "    print(\"Pred:  \" + \", \".join(difficult[\"pred\"]))\n",
    "    print(\"True:  \" + difficult[\"ref\"])\n",
    "    print(\"\\n\")"
   ]
  },
  {
   "cell_type": "code",
   "execution_count": 12,
   "metadata": {},
   "outputs": [],
   "source": [
    "# To pandas dataframe\n",
    "import pandas as pd\n",
    "\n",
    "data_dev_hmp = {\n",
    "    \"in\":inwords,\n",
    "    \"pred\": outw_pred,\n",
    "    \"out\":outw,\n",
    "    \"equality\":equality,\n",
    "    \"props_comp_to_outcome\":props_comp_to_outcome,\n",
    "    \"props_comp_to_hmphones\":props_comp_to_hmphones,\n",
    "    \"props_all_equal\":props_all_equal\n",
    "}\n",
    "\n",
    "# To pandas df\n",
    "data_dev = pd.DataFrame.from_dict(data_dev_hmp)\n",
    "\n",
    "# To csv\n",
    "data_dev.to_csv(\"writeup/xsampa_dev_hmp.csv\")"
   ]
  },
  {
   "cell_type": "markdown",
   "metadata": {},
   "source": [
    "### Misspelled words data"
   ]
  },
  {
   "cell_type": "code",
   "execution_count": 13,
   "metadata": {},
   "outputs": [],
   "source": [
    "## Load data\n",
    "misp = np.load('data/preprocessed/wikipedia_misspelled.npy')"
   ]
  },
  {
   "cell_type": "code",
   "execution_count": 14,
   "metadata": {},
   "outputs": [
    {
     "name": "stdout",
     "output_type": "stream",
     "text": [
      "----------\n",
      "Misspelled: impecabbly, Pred: /Im\"pEk@b@li/\n",
      "Correct: impeccably, Pred: /Im\"pEk@b@li/\n",
      "\n",
      "\n",
      "----------\n",
      "Misspelled: harasment, Pred: /\"h{r\\@zm@nt/\n",
      "Correct: harassment, Pred: /\"h{r\\@sm@nt/\n",
      "\n",
      "\n",
      "----------\n",
      "Misspelled: casued, Pred: /\"keIsId/\n",
      "Correct: caused, Pred: /kOzd/\n",
      "\n",
      "\n",
      "----------\n",
      "Misspelled: carryng, Pred: /\"kEr\\IN/\n",
      "Correct: carrying, Pred: /\"kEr\\IIN/\n",
      "\n",
      "\n",
      "----------\n",
      "Misspelled: fullfilled, Pred: /\"fUl%fIld/\n",
      "Correct: fulfilled, Pred: /fVl\"fIld/\n",
      "\n",
      "\n",
      "----------\n",
      "Misspelled: activly, Pred: /\"{k.tI.vli/\n",
      "Correct: actively, Pred: /@\"kIt.li/\n",
      "\n",
      "\n",
      "----------\n",
      "Misspelled: helment, Pred: /\"hElm@nt/\n",
      "Correct: helmet, Pred: /\"hElmIt/\n",
      "\n",
      "\n",
      "----------\n",
      "Misspelled: seperatism, Pred: /\"sEp@r\\eItIz@m/\n",
      "Correct: separatism, Pred: /\"sEp@r\\eItIz@m/\n",
      "\n",
      "\n",
      "----------\n",
      "Misspelled: likelyhood, Pred: /\"laIklihUd/\n",
      "Correct: likelihood, Pred: /\"laIklihUd/\n",
      "\n",
      "\n",
      "----------\n",
      "Misspelled: druming, Pred: /\"dr\\u:mIN/\n",
      "Correct: drumming, Pred: /\"dr\\VmIN/\n",
      "\n",
      "\n",
      "----------\n",
      "Misspelled: ceromony, Pred: /\"sEr\\@m@ni/\n",
      "Correct: ceremony, Pred: /\"sEr\\Im@ni/\n",
      "\n",
      "\n",
      "----------\n",
      "Misspelled: yaers, Pred: /j@r\\z/\n",
      "Correct: years, Pred: /ji.@(r\\)z/\n",
      "\n",
      "\n",
      "----------\n",
      "Misspelled: collonade, Pred: /\"kQl@neId/\n",
      "Correct: colonnade, Pred: /\"kQl@neId/\n",
      "\n",
      "\n",
      "----------\n",
      "Misspelled: bcak, Pred: /bi:k/\n",
      "Correct: back, Pred: /b{k/\n",
      "\n",
      "\n",
      "----------\n",
      "Misspelled: alledge, Pred: /@\"lEdZ/\n",
      "Correct: allege, Pred: /@\"lEdZ/\n",
      "\n",
      "\n",
      "----------\n",
      "Misspelled: hvaing, Pred: /\"veI.IN/\n",
      "Correct: having, Pred: /\"heIvIN/\n",
      "\n",
      "\n",
      "----------\n",
      "Misspelled: engieneer, Pred: /%End__Z@\"nIr\\/\n",
      "Correct: engineer, Pred: /%End__ZI\"nIr\\/\n",
      "\n",
      "\n",
      "----------\n",
      "Misspelled: decendant, Pred: /dI\"sEnd@nt/\n",
      "Correct: descendant, Pred: /dI\"sEnd@nt/\n",
      "\n",
      "\n",
      "----------\n",
      "Misspelled: rebiulding, Pred: /r\\I\"bIlbIN/\n",
      "Correct: rebuilding, Pred: /r\\I\"bIlbIN/\n",
      "\n",
      "\n",
      "----------\n",
      "Misspelled: liuke, Pred: /li:k/\n",
      "Correct: like, Pred: /laIk/\n",
      "\n",
      "\n",
      "----------\n",
      "Misspelled: scinece, Pred: /\"sIn@si/\n",
      "Correct: science, Pred: /\"saI@ns/\n",
      "\n",
      "\n",
      "----------\n",
      "Misspelled: omlette, Pred: /Qm\"lEt/\n",
      "Correct: omelette, Pred: /\"QmIlEt/\n",
      "\n",
      "\n",
      "----------\n",
      "Misspelled: compulsery, Pred: /k@m\"pVl@r\\i/\n",
      "Correct: compulsory, Pred: /k@m\"pVl.t@r\\.i/\n",
      "\n",
      "\n",
      "----------\n",
      "Misspelled: opression, Pred: /@\"pr\\ES@n/\n",
      "Correct: oppression, Pred: /@\"pr\\ES@n/\n",
      "\n",
      "\n",
      "----------\n",
      "Misspelled: aplied, Pred: /@\"plaId/\n",
      "Correct: applied, Pred: /@\"plaId/\n",
      "\n",
      "\n",
      "----------\n",
      "Misspelled: subtances, Pred: /\"sVbt@ns@z/\n",
      "Correct: substances, Pred: /\"sVbst@ns/\n",
      "\n",
      "\n",
      "----------\n",
      "Misspelled: verisons, Pred: /\"vEr\\Is@nz/\n",
      "Correct: versions, Pred: /\"v3`S@nz/\n",
      "\n",
      "\n",
      "----------\n",
      "Misspelled: breif, Pred: /br\\i:f/\n",
      "Correct: brief, Pred: /br\\i:f/\n",
      "\n",
      "\n",
      "----------\n",
      "Misspelled: ghandi, Pred: /\"g{ndi/\n",
      "Correct: gandhi, Pred: /\"g{ndi/\n",
      "\n",
      "\n",
      "----------\n",
      "Misspelled: statememts, Pred: /\"steIt.m@st/\n",
      "Correct: statements, Pred: /\"steIt.m@nts/\n",
      "\n",
      "\n",
      "----------\n",
      "Misspelled: habaeus, Pred: /\"heIb@Is/\n",
      "Correct: habeas, Pred: /\"h{bi.@s/\n",
      "\n",
      "\n",
      "----------\n",
      "Misspelled: payed, Pred: /peId/\n",
      "Correct: paid, Pred: /peId/\n",
      "\n",
      "\n",
      "----------\n",
      "Misspelled: abbout, Pred: /\"{b.bu:t/\n",
      "Correct: about, Pred: /@\"baUt/\n",
      "\n",
      "\n",
      "----------\n",
      "Misspelled: remaing, Pred: /r\\I\"meIn/\n",
      "Correct: remaining, Pred: /r\\I\"meInIN/\n",
      "\n",
      "\n",
      "----------\n",
      "Misspelled: strenght, Pred: /str\\{N(k)T/\n",
      "Correct: strength, Pred: /str\\EN(k)T/\n",
      "\n",
      "\n"
     ]
    }
   ],
   "source": [
    "badpreds = []\n",
    "goodpreds = []\n",
    "tp = 0\n",
    "fp = 0\n",
    "tn = 0\n",
    "fn = 0\n",
    "wrong = []\n",
    "for (pair, score) in misp:\n",
    "    \n",
    "    # Predict pronunciation\n",
    "    try:\n",
    "        bpred = phonorm.predict(pair[0])\n",
    "        gpred = phonorm.predict(pair[1])\n",
    "    except:\n",
    "        continue\n",
    "    \n",
    "    badpreds.append(bpred)\n",
    "    goodpreds.append(gpred)\n",
    "    \n",
    "    # If bpred and gpred are the same and score == 1 (pronunciation of the words is the same), then add to accuracy\n",
    "    if bpred == gpred:\n",
    "        are_equal = True\n",
    "    else:\n",
    "        are_equal = False\n",
    "    \n",
    "    if score == 0:\n",
    "        if are_equal == False:\n",
    "            tn += 1\n",
    "        else:\n",
    "            fn += 1\n",
    "            wrong.append([pair, bool(score), [bpred, gpred], True])\n",
    "    else:\n",
    "        if are_equal:\n",
    "            tp += 1\n",
    "        else:\n",
    "            fp += 1\n",
    "            wrong.append([pair, bool(score), [bpred, gpred], False])\n",
    "    \n",
    "    # Print if random number > 0.99\n",
    "    if random.random() > 0.5:\n",
    "        ## Print\n",
    "        print(\"----------\")\n",
    "        print(\"Misspelled: \" + pair[0] + \", Pred: \" + bpred)\n",
    "        print(\"Correct: \" + pair[1] + \", Pred: \" + gpred)\n",
    "        print(\"\\n\")"
   ]
  },
  {
   "cell_type": "code",
   "execution_count": 15,
   "metadata": {},
   "outputs": [
    {
     "name": "stdout",
     "output_type": "stream",
     "text": [
      "Accuracy: 0.8484848484848485\n",
      "Sensitivity: 0.8571428571428571\n",
      "Specificity: 0.926829268292683\n",
      "F1: 0.890625\n"
     ]
    }
   ],
   "source": [
    "# Metrics\n",
    "acc = (tp + tn) / (tp + fp + tn + fn)\n",
    "sens = tp / (tp + fn)\n",
    "spec = tn / (fn + tn)\n",
    "f1 = 2*(sens * spec) / (sens + spec)\n",
    "#-----\n",
    "\n",
    "print(\"Accuracy: \" + str(acc))\n",
    "print(\"Sensitivity: \" + str(sens))\n",
    "print(\"Specificity: \" + str(spec))\n",
    "print(\"F1: \" + str(f1))"
   ]
  },
  {
   "cell_type": "code",
   "execution_count": 16,
   "metadata": {},
   "outputs": [
    {
     "data": {
      "text/plain": [
       "[[['fullfilled', 'fulfilled'], True, ['/\"fUl%fIld/', '/fVl\"fIld/'], False],\n",
       " [['activly', 'actively'], True, ['/\"{k.tI.vli/', '/@\"kIt.li/'], False],\n",
       " [['ceromony', 'ceremony'], True, ['/\"sEr\\\\@m@ni/', '/\"sEr\\\\Im@ni/'], False],\n",
       " [['alledge', 'allege'], False, ['/@\"lEdZ/', '/@\"lEdZ/'], True],\n",
       " [['rebiulding', 'rebuilding'],\n",
       "  False,\n",
       "  ['/r\\\\I\"bIlbIN/', '/r\\\\I\"bIlbIN/'],\n",
       "  True],\n",
       " [['compulsery', 'compulsory'],\n",
       "  True,\n",
       "  ['/k@m\"pVl@r\\\\i/', '/k@m\"pVl.t@r\\\\.i/'],\n",
       "  False],\n",
       " [['opression', 'oppression'], False, ['/@\"pr\\\\ES@n/', '/@\"pr\\\\ES@n/'], True],\n",
       " [['comback', 'comeback'], True, ['/\"kQm.b{k/', '/\"koUm.b{k/'], False],\n",
       " [['irrelevent', 'irrelevant'],\n",
       "  True,\n",
       "  ['/I\"r\\\\i:l@nt/', '/I\"r\\\\i:l@n@nt/'],\n",
       "  False],\n",
       " [['abbout', 'about'], True, ['/\"{b.bu:t/', '/@\"baUt/'], False]]"
      ]
     },
     "execution_count": 16,
     "metadata": {},
     "output_type": "execute_result"
    }
   ],
   "source": [
    "wrong"
   ]
  }
 ],
 "metadata": {
  "kernelspec": {
   "display_name": "tf-gpu",
   "language": "python",
   "name": "tf-gpu"
  },
  "language_info": {
   "codemirror_mode": {
    "name": "ipython",
    "version": 3
   },
   "file_extension": ".py",
   "mimetype": "text/x-python",
   "name": "python",
   "nbconvert_exporter": "python",
   "pygments_lexer": "ipython3",
   "version": "3.6.7"
  }
 },
 "nbformat": 4,
 "nbformat_minor": 2
}
